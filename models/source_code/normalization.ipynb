{
 "cells": [
  {
   "cell_type": "markdown",
   "metadata": {},
   "source": [
    "## Membaca Dataset\n",
    "\n",
    "Pengumpulan data diambil dari sumber :\n",
    "\n",
    "1. openphish.com\n",
    "2. phishtank.org\n",
    "3. facebook.com\n",
    "4. dan beberapa sumber lainnya yang ada di internet"
   ]
  },
  {
   "cell_type": "code",
   "execution_count": 1,
   "metadata": {
    "ExecuteTime": {
     "end_time": "2023-06-12T15:07:28.196523600Z",
     "start_time": "2023-06-12T15:07:26.852899600Z"
    }
   },
   "outputs": [
    {
     "data": {
      "text/plain": "                                                  url      status\n0   www.facebook.com/photo/?fbid=2334005530108574&...  Legitimate\n1   https://zabgc.ru/file/Plan/Santander/Particula...    Phishing\n2   www.babla.co.id/bahasa-inggris-bahasa-indonesi...  Legitimate\n3         https://xplusstore.com/cig-bin/lt/3mail@b.c    Phishing\n4                             tinyurl.com/photo-sayas  Legitimate\n5   https://www--wellsfargo--com--yy49329d48d6c.ws...    Phishing\n6   scontent.fkno6-1.fna.fbcdn.net/v/t39.30808-6/3...  Legitimate\n7   https://www--wellsfargo--com--yw49329d48d6c.ws...    Phishing\n8                 https://openphish.com/whatsnew.html  Legitimate\n9   https://www--wellsfargo--com--wn49329d48d6c.ws...    Phishing\n10  https://simamaung.com/persib-pinjamkan-henhen-...  Legitimate\n11  https://www--wellsfargo--com--u749329d48d6c.ws...    Phishing\n12                                         s.id/1KXvA  Legitimate\n13                         http://googeldrive-pe.com/    Phishing\n14                    react.dev/community/conferences  Legitimate\n15  https://www--wellsfargo--com--t849329d48d6c.ws...    Phishing\n16    police.govt.nz/contact-us/calling-emergency-111  Legitimate\n17  https://www--wellsfargo--com--pv49329d48d6c.ws...    Phishing\n18  pintu.co.id/blog/apa-itu-metaverse-di-dunia-cr...  Legitimate\n19  https://www--wellsfargo--com--ph49329d48d6c.ws...    Phishing",
      "text/html": "<div>\n<style scoped>\n    .dataframe tbody tr th:only-of-type {\n        vertical-align: middle;\n    }\n\n    .dataframe tbody tr th {\n        vertical-align: top;\n    }\n\n    .dataframe thead th {\n        text-align: right;\n    }\n</style>\n<table border=\"1\" class=\"dataframe\">\n  <thead>\n    <tr style=\"text-align: right;\">\n      <th></th>\n      <th>url</th>\n      <th>status</th>\n    </tr>\n  </thead>\n  <tbody>\n    <tr>\n      <th>0</th>\n      <td>www.facebook.com/photo/?fbid=2334005530108574&amp;...</td>\n      <td>Legitimate</td>\n    </tr>\n    <tr>\n      <th>1</th>\n      <td>https://zabgc.ru/file/Plan/Santander/Particula...</td>\n      <td>Phishing</td>\n    </tr>\n    <tr>\n      <th>2</th>\n      <td>www.babla.co.id/bahasa-inggris-bahasa-indonesi...</td>\n      <td>Legitimate</td>\n    </tr>\n    <tr>\n      <th>3</th>\n      <td>https://xplusstore.com/cig-bin/lt/3mail@b.c</td>\n      <td>Phishing</td>\n    </tr>\n    <tr>\n      <th>4</th>\n      <td>tinyurl.com/photo-sayas</td>\n      <td>Legitimate</td>\n    </tr>\n    <tr>\n      <th>5</th>\n      <td>https://www--wellsfargo--com--yy49329d48d6c.ws...</td>\n      <td>Phishing</td>\n    </tr>\n    <tr>\n      <th>6</th>\n      <td>scontent.fkno6-1.fna.fbcdn.net/v/t39.30808-6/3...</td>\n      <td>Legitimate</td>\n    </tr>\n    <tr>\n      <th>7</th>\n      <td>https://www--wellsfargo--com--yw49329d48d6c.ws...</td>\n      <td>Phishing</td>\n    </tr>\n    <tr>\n      <th>8</th>\n      <td>https://openphish.com/whatsnew.html</td>\n      <td>Legitimate</td>\n    </tr>\n    <tr>\n      <th>9</th>\n      <td>https://www--wellsfargo--com--wn49329d48d6c.ws...</td>\n      <td>Phishing</td>\n    </tr>\n    <tr>\n      <th>10</th>\n      <td>https://simamaung.com/persib-pinjamkan-henhen-...</td>\n      <td>Legitimate</td>\n    </tr>\n    <tr>\n      <th>11</th>\n      <td>https://www--wellsfargo--com--u749329d48d6c.ws...</td>\n      <td>Phishing</td>\n    </tr>\n    <tr>\n      <th>12</th>\n      <td>s.id/1KXvA</td>\n      <td>Legitimate</td>\n    </tr>\n    <tr>\n      <th>13</th>\n      <td>http://googeldrive-pe.com/</td>\n      <td>Phishing</td>\n    </tr>\n    <tr>\n      <th>14</th>\n      <td>react.dev/community/conferences</td>\n      <td>Legitimate</td>\n    </tr>\n    <tr>\n      <th>15</th>\n      <td>https://www--wellsfargo--com--t849329d48d6c.ws...</td>\n      <td>Phishing</td>\n    </tr>\n    <tr>\n      <th>16</th>\n      <td>police.govt.nz/contact-us/calling-emergency-111</td>\n      <td>Legitimate</td>\n    </tr>\n    <tr>\n      <th>17</th>\n      <td>https://www--wellsfargo--com--pv49329d48d6c.ws...</td>\n      <td>Phishing</td>\n    </tr>\n    <tr>\n      <th>18</th>\n      <td>pintu.co.id/blog/apa-itu-metaverse-di-dunia-cr...</td>\n      <td>Legitimate</td>\n    </tr>\n    <tr>\n      <th>19</th>\n      <td>https://www--wellsfargo--com--ph49329d48d6c.ws...</td>\n      <td>Phishing</td>\n    </tr>\n  </tbody>\n</table>\n</div>"
     },
     "execution_count": 1,
     "metadata": {},
     "output_type": "execute_result"
    }
   ],
   "source": [
    "import pandas as pd\n",
    "\n",
    "df = pd.read_csv('dataset.csv')\n",
    "df.head(20)"
   ]
  },
  {
   "cell_type": "code",
   "execution_count": 2,
   "metadata": {
    "ExecuteTime": {
     "end_time": "2023-06-12T15:07:28.205363200Z",
     "start_time": "2023-06-12T15:07:28.193480600Z"
    }
   },
   "outputs": [
    {
     "data": {
      "text/plain": "                                                      url      status\ncount                                                 786         786\nunique                                                786           2\ntop     www.facebook.com/photo/?fbid=2334005530108574&...  Legitimate\nfreq                                                    1         393",
      "text/html": "<div>\n<style scoped>\n    .dataframe tbody tr th:only-of-type {\n        vertical-align: middle;\n    }\n\n    .dataframe tbody tr th {\n        vertical-align: top;\n    }\n\n    .dataframe thead th {\n        text-align: right;\n    }\n</style>\n<table border=\"1\" class=\"dataframe\">\n  <thead>\n    <tr style=\"text-align: right;\">\n      <th></th>\n      <th>url</th>\n      <th>status</th>\n    </tr>\n  </thead>\n  <tbody>\n    <tr>\n      <th>count</th>\n      <td>786</td>\n      <td>786</td>\n    </tr>\n    <tr>\n      <th>unique</th>\n      <td>786</td>\n      <td>2</td>\n    </tr>\n    <tr>\n      <th>top</th>\n      <td>www.facebook.com/photo/?fbid=2334005530108574&amp;...</td>\n      <td>Legitimate</td>\n    </tr>\n    <tr>\n      <th>freq</th>\n      <td>1</td>\n      <td>393</td>\n    </tr>\n  </tbody>\n</table>\n</div>"
     },
     "execution_count": 2,
     "metadata": {},
     "output_type": "execute_result"
    }
   ],
   "source": [
    "df.describe()"
   ]
  },
  {
   "cell_type": "markdown",
   "metadata": {},
   "source": [
    "# Melihat distribusi kategori URL status"
   ]
  },
  {
   "cell_type": "code",
   "execution_count": 3,
   "metadata": {
    "ExecuteTime": {
     "end_time": "2023-06-12T15:07:29.135065Z",
     "start_time": "2023-06-12T15:07:28.206363100Z"
    }
   },
   "outputs": [
    {
     "data": {
      "text/plain": "<Figure size 1000x600 with 1 Axes>",
      "image/png": "[encoded data removed]"
     },
     "metadata": {},
     "output_type": "display_data"
    }
   ],
   "source": [
    "import matplotlib.pyplot as plt\n",
    "\n",
    "status_counts = df['status'].value_counts()\n",
    "total = status_counts.sum()\n",
    "\n",
    "percentages = status_counts / total * 100\n",
    "colors = ['#2ca02c', '#d62728']\n",
    "\n",
    "fig, ax = plt.subplots(figsize=(10, 6))\n",
    "ax.bar(status_counts.index, percentages, color=colors)\n",
    "\n",
    "ax.set_xlabel('URL Status Categories')\n",
    "ax.set_ylabel('Percentage')\n",
    "\n",
    "for i, p in enumerate(ax.patches):\n",
    "    percentage = f'{percentages.values[i]:.1f}%'\n",
    "    ax.annotate(percentage, (p.get_x() + p.get_width() / 2, p.get_height()), ha='center', va='bottom')\n",
    "\n",
    "ax.set_title('Distribution of URL Status Categories')\n",
    "plt.show()"
   ]
  },
  {
   "cell_type": "markdown",
   "metadata": {},
   "source": [
    "# Normalisasi Dataset"
   ]
  },
  {
   "cell_type": "markdown",
   "metadata": {},
   "source": [
    "# 1.Normalisasi ssl(http/https) contohnya bit.ly/LostSagaOrigin_SubscribeNow --> <span style=\"color:green\">https://</span>bit.ly/LostSagaOrigin_SubscribeNow"
   ]
  },
  {
   "cell_type": "code",
   "execution_count": 4,
   "metadata": {
    "ExecuteTime": {
     "end_time": "2023-06-12T15:45:27.495480200Z",
     "start_time": "2023-06-12T15:07:29.140067Z"
    }
   },
   "outputs": [],
   "source": [
    "import requests\n",
    "\n",
    "# Normalisasi ssl(http/https)\n",
    "def normalize_protocol_url(url):\n",
    "    if url.startswith('http://'):\n",
    "        url = url[7:]\n",
    "    elif url.startswith('https://'):\n",
    "        url = url[8:]\n",
    "\n",
    "    try:\n",
    "        response = requests.get('https://' + url)\n",
    "        if response.status_code == 200:\n",
    "            return 'https://' + url\n",
    "    except (requests.exceptions.SSLError, requests.exceptions.RequestException):\n",
    "        pass\n",
    "\n",
    "    return 'http://' + url\n",
    "\n",
    "df['normalisasi_protokol'] = df['url'].apply(normalize_protocol_url)"
   ]
  },
  {
   "cell_type": "markdown",
   "metadata": {},
   "source": [
    "# 2. Normalisasi Url Asli contohnya https://bit.ly/LostSagaOrigin_SubscribeNow --> <span style=\"color:red\">redirect to </span>--> <span style=\"color:green\">https://www.youtube.com/channel/UCv2POqB76iTckP4TVPl3qmQ</span>"
   ]
  },
  {
   "cell_type": "code",
   "execution_count": 5,
   "metadata": {
    "ExecuteTime": {
     "end_time": "2023-06-12T16:22:40.768518100Z",
     "start_time": "2023-06-12T15:45:27.511108500Z"
    }
   },
   "outputs": [],
   "source": [
    "# Normalisasi Url Asli\n",
    "def normalize_url_actual(normalisasi_protokol):\n",
    "    original_url = normalisasi_protokol\n",
    "\n",
    "    try:\n",
    "        response = requests.head(normalisasi_protokol, allow_redirects=True)\n",
    "        normalisasi_protokol = response.url\n",
    "    except requests.exceptions.RequestException:\n",
    "        normalisasi_protokol = original_url\n",
    "\n",
    "    return normalisasi_protokol\n",
    "\n",
    "df['url_asli'] = df['normalisasi_protokol'].apply(normalize_url_actual)"
   ]
  },
  {
   "cell_type": "code",
   "execution_count": 6,
   "metadata": {
    "ExecuteTime": {
     "end_time": "2023-06-12T16:22:40.882216500Z",
     "start_time": "2023-06-12T16:22:40.768518100Z"
    }
   },
   "outputs": [
    {
     "data": {
      "text/plain": "                                                  url      status  \\\n0   www.facebook.com/photo/?fbid=2334005530108574&...  Legitimate   \n1   https://zabgc.ru/file/Plan/Santander/Particula...    Phishing   \n2   www.babla.co.id/bahasa-inggris-bahasa-indonesi...  Legitimate   \n3         https://xplusstore.com/cig-bin/lt/3mail@b.c    Phishing   \n4                             tinyurl.com/photo-sayas  Legitimate   \n5   https://www--wellsfargo--com--yy49329d48d6c.ws...    Phishing   \n6   scontent.fkno6-1.fna.fbcdn.net/v/t39.30808-6/3...  Legitimate   \n7   https://www--wellsfargo--com--yw49329d48d6c.ws...    Phishing   \n8                 https://openphish.com/whatsnew.html  Legitimate   \n9   https://www--wellsfargo--com--wn49329d48d6c.ws...    Phishing   \n10  https://simamaung.com/persib-pinjamkan-henhen-...  Legitimate   \n11  https://www--wellsfargo--com--u749329d48d6c.ws...    Phishing   \n12                                         s.id/1KXvA  Legitimate   \n13                         http://googeldrive-pe.com/    Phishing   \n14                    react.dev/community/conferences  Legitimate   \n15  https://www--wellsfargo--com--t849329d48d6c.ws...    Phishing   \n16    police.govt.nz/contact-us/calling-emergency-111  Legitimate   \n17  https://www--wellsfargo--com--pv49329d48d6c.ws...    Phishing   \n18  pintu.co.id/blog/apa-itu-metaverse-di-dunia-cr...  Legitimate   \n19  https://www--wellsfargo--com--ph49329d48d6c.ws...    Phishing   \n\n                                 normalisasi_protokol  \\\n0   https://www.facebook.com/photo/?fbid=233400553...   \n1   http://zabgc.ru/file/Plan/Santander/Particular...   \n2   http://www.babla.co.id/bahasa-inggris-bahasa-i...   \n3         https://xplusstore.com/cig-bin/lt/3mail@b.c   \n4                     https://tinyurl.com/photo-sayas   \n5   https://www--wellsfargo--com--yy49329d48d6c.ws...   \n6   http://scontent.fkno6-1.fna.fbcdn.net/v/t39.30...   \n7   https://www--wellsfargo--com--yw49329d48d6c.ws...   \n8                 https://openphish.com/whatsnew.html   \n9   https://www--wellsfargo--com--wn49329d48d6c.ws...   \n10  https://simamaung.com/persib-pinjamkan-henhen-...   \n11  https://www--wellsfargo--com--u749329d48d6c.ws...   \n12                                 https://s.id/1KXvA   \n13                         http://googeldrive-pe.com/   \n14            https://react.dev/community/conferences   \n15  https://www--wellsfargo--com--t849329d48d6c.ws...   \n16  https://police.govt.nz/contact-us/calling-emer...   \n17  https://www--wellsfargo--com--pv49329d48d6c.ws...   \n18  https://pintu.co.id/blog/apa-itu-metaverse-di-...   \n19  https://www--wellsfargo--com--ph49329d48d6c.ws...   \n\n                                             url_asli  \n0   https://www.facebook.com/photo/?fbid=233400553...  \n1   http://zabgc.ru/file/Plan/Santander/Particular...  \n2   https://www.babla.co.id/bahasa-inggris-bahasa-...  \n3         https://xplusstore.com/cig-bin/lt/3mail@b.c  \n4   https://www.facebook.com/photo?fbid=2381004508...  \n5   https://www--wellsfargo--com--yy49329d48d6c.ws...  \n6   https://scontent.fkno6-1.fna.fbcdn.net/v/t39.3...  \n7   https://www--wellsfargo--com--yw49329d48d6c.ws...  \n8                 https://openphish.com/whatsnew.html  \n9   https://www--wellsfargo--com--wn49329d48d6c.ws...  \n10  https://simamaung.com/persib-pinjamkan-henhen-...  \n11  https://www--wellsfargo--com--u749329d48d6c.ws...  \n12  https://www.facebook.com/photo/?fbid=238100451...  \n13                         http://googeldrive-pe.com/  \n14            https://react.dev/community/conferences  \n15  https://www--wellsfargo--com--t849329d48d6c.ws...  \n16  https://www.police.govt.nz/contact-us/calling-...  \n17  https://www--wellsfargo--com--pv49329d48d6c.ws...  \n18  https://pintu.co.id/blog/apa-itu-metaverse-di-...  \n19  https://www--wellsfargo--com--ph49329d48d6c.ws...  ",
      "text/html": "<div>\n<style scoped>\n    .dataframe tbody tr th:only-of-type {\n        vertical-align: middle;\n    }\n\n    .dataframe tbody tr th {\n        vertical-align: top;\n    }\n\n    .dataframe thead th {\n        text-align: right;\n    }\n</style>\n<table border=\"1\" class=\"dataframe\">\n  <thead>\n    <tr style=\"text-align: right;\">\n      <th></th>\n      <th>url</th>\n      <th>status</th>\n      <th>normalisasi_protokol</th>\n      <th>url_asli</th>\n    </tr>\n  </thead>\n  <tbody>\n    <tr>\n      <th>0</th>\n      <td>www.facebook.com/photo/?fbid=2334005530108574&amp;...</td>\n      <td>Legitimate</td>\n      <td>https://www.facebook.com/photo/?fbid=233400553...</td>\n      <td>https://www.facebook.com/photo/?fbid=233400553...</td>\n    </tr>\n    <tr>\n      <th>1</th>\n      <td>https://zabgc.ru/file/Plan/Santander/Particula...</td>\n      <td>Phishing</td>\n      <td>http://zabgc.ru/file/Plan/Santander/Particular...</td>\n      <td>http://zabgc.ru/file/Plan/Santander/Particular...</td>\n    </tr>\n    <tr>\n      <th>2</th>\n      <td>www.babla.co.id/bahasa-inggris-bahasa-indonesi...</td>\n      <td>Legitimate</td>\n      <td>http://www.babla.co.id/bahasa-inggris-bahasa-i...</td>\n      <td>https://www.babla.co.id/bahasa-inggris-bahasa-...</td>\n    </tr>\n    <tr>\n      <th>3</th>\n      <td>https://xplusstore.com/cig-bin/lt/3mail@b.c</td>\n      <td>Phishing</td>\n      <td>https://xplusstore.com/cig-bin/lt/3mail@b.c</td>\n      <td>https://xplusstore.com/cig-bin/lt/3mail@b.c</td>\n    </tr>\n    <tr>\n      <th>4</th>\n      <td>tinyurl.com/photo-sayas</td>\n      <td>Legitimate</td>\n      <td>https://tinyurl.com/photo-sayas</td>\n      <td>https://www.facebook.com/photo?fbid=2381004508...</td>\n    </tr>\n    <tr>\n      <th>5</th>\n      <td>https://www--wellsfargo--com--yy49329d48d6c.ws...</td>\n      <td>Phishing</td>\n      <td>https://www--wellsfargo--com--yy49329d48d6c.ws...</td>\n      <td>https://www--wellsfargo--com--yy49329d48d6c.ws...</td>\n    </tr>\n    <tr>\n      <th>6</th>\n      <td>scontent.fkno6-1.fna.fbcdn.net/v/t39.30808-6/3...</td>\n      <td>Legitimate</td>\n      <td>http://scontent.fkno6-1.fna.fbcdn.net/v/t39.30...</td>\n      <td>https://scontent.fkno6-1.fna.fbcdn.net/v/t39.3...</td>\n    </tr>\n    <tr>\n      <th>7</th>\n      <td>https://www--wellsfargo--com--yw49329d48d6c.ws...</td>\n      <td>Phishing</td>\n      <td>https://www--wellsfargo--com--yw49329d48d6c.ws...</td>\n      <td>https://www--wellsfargo--com--yw49329d48d6c.ws...</td>\n    </tr>\n    <tr>\n      <th>8</th>\n      <td>https://openphish.com/whatsnew.html</td>\n      <td>Legitimate</td>\n      <td>https://openphish.com/whatsnew.html</td>\n      <td>https://openphish.com/whatsnew.html</td>\n    </tr>\n    <tr>\n      <th>9</th>\n      <td>https://www--wellsfargo--com--wn49329d48d6c.ws...</td>\n      <td>Phishing</td>\n      <td>https://www--wellsfargo--com--wn49329d48d6c.ws...</td>\n      <td>https://www--wellsfargo--com--wn49329d48d6c.ws...</td>\n    </tr>\n    <tr>\n      <th>10</th>\n      <td>https://simamaung.com/persib-pinjamkan-henhen-...</td>\n      <td>Legitimate</td>\n      <td>https://simamaung.com/persib-pinjamkan-henhen-...</td>\n      <td>https://simamaung.com/persib-pinjamkan-henhen-...</td>\n    </tr>\n    <tr>\n      <th>11</th>\n      <td>https://www--wellsfargo--com--u749329d48d6c.ws...</td>\n      <td>Phishing</td>\n      <td>https://www--wellsfargo--com--u749329d48d6c.ws...</td>\n      <td>https://www--wellsfargo--com--u749329d48d6c.ws...</td>\n    </tr>\n    <tr>\n      <th>12</th>\n      <td>s.id/1KXvA</td>\n      <td>Legitimate</td>\n      <td>https://s.id/1KXvA</td>\n      <td>https://www.facebook.com/photo/?fbid=238100451...</td>\n    </tr>\n    <tr>\n      <th>13</th>\n      <td>http://googeldrive-pe.com/</td>\n      <td>Phishing</td>\n      <td>http://googeldrive-pe.com/</td>\n      <td>http://googeldrive-pe.com/</td>\n    </tr>\n    <tr>\n      <th>14</th>\n      <td>react.dev/community/conferences</td>\n      <td>Legitimate</td>\n      <td>https://react.dev/community/conferences</td>\n      <td>https://react.dev/community/conferences</td>\n    </tr>\n    <tr>\n      <th>15</th>\n      <td>https://www--wellsfargo--com--t849329d48d6c.ws...</td>\n      <td>Phishing</td>\n      <td>https://www--wellsfargo--com--t849329d48d6c.ws...</td>\n      <td>https://www--wellsfargo--com--t849329d48d6c.ws...</td>\n    </tr>\n    <tr>\n      <th>16</th>\n      <td>police.govt.nz/contact-us/calling-emergency-111</td>\n      <td>Legitimate</td>\n      <td>https://police.govt.nz/contact-us/calling-emer...</td>\n      <td>https://www.police.govt.nz/contact-us/calling-...</td>\n    </tr>\n    <tr>\n      <th>17</th>\n      <td>https://www--wellsfargo--com--pv49329d48d6c.ws...</td>\n      <td>Phishing</td>\n      <td>https://www--wellsfargo--com--pv49329d48d6c.ws...</td>\n      <td>https://www--wellsfargo--com--pv49329d48d6c.ws...</td>\n    </tr>\n    <tr>\n      <th>18</th>\n      <td>pintu.co.id/blog/apa-itu-metaverse-di-dunia-cr...</td>\n      <td>Legitimate</td>\n      <td>https://pintu.co.id/blog/apa-itu-metaverse-di-...</td>\n      <td>https://pintu.co.id/blog/apa-itu-metaverse-di-...</td>\n    </tr>\n    <tr>\n      <th>19</th>\n      <td>https://www--wellsfargo--com--ph49329d48d6c.ws...</td>\n      <td>Phishing</td>\n      <td>https://www--wellsfargo--com--ph49329d48d6c.ws...</td>\n      <td>https://www--wellsfargo--com--ph49329d48d6c.ws...</td>\n    </tr>\n  </tbody>\n</table>\n</div>"
     },
     "execution_count": 6,
     "metadata": {},
     "output_type": "execute_result"
    }
   ],
   "source": [
    "df.head(20)"
   ]
  },
  {
   "cell_type": "markdown",
   "metadata": {},
   "source": [
    "# Menyimpan dataset normalisasi"
   ]
  },
  {
   "cell_type": "markdown",
   "source": [
    "#\n",
    "dikarenakan kita hanya menggunakan hasil dari url_asli dan status untuk melakukan ektraksi fitur maka url dan normalisasi_protokol dihapus"
   ],
   "metadata": {
    "collapsed": false
   }
  },
  {
   "cell_type": "code",
   "execution_count": 7,
   "outputs": [],
   "source": [
    "# Hapus kolom 'url' dan 'normalisasi'\n",
    "df.drop(['url', 'normalisasi_protokol'], axis=1, inplace=True)\n",
    "\n",
    "# Simpan dataframe hasilnya ke file lain\n",
    "df.to_csv('normalisasi.csv', index=False)"
   ],
   "metadata": {
    "collapsed": false,
    "ExecuteTime": {
     "end_time": "2023-06-12T16:22:40.994092600Z",
     "start_time": "2023-06-12T16:22:40.882216500Z"
    }
   }
  },
  {
   "cell_type": "code",
   "execution_count": null,
   "outputs": [],
   "source": [],
   "metadata": {
    "collapsed": false
   }
  }
 ],
 "metadata": {
  "kernelspec": {
   "display_name": "Python 3 (ipykernel)",
   "language": "python",
   "name": "python3"
  },
  "language_info": {
   "codemirror_mode": {
    "name": "ipython",
    "version": 3
   },
   "file_extension": ".py",
   "mimetype": "text/x-python",
   "name": "python",
   "nbconvert_exporter": "python",
   "pygments_lexer": "ipython3",
   "version": "3.11.2"
  }
 },
 "nbformat": 4,
 "nbformat_minor": 1
}
